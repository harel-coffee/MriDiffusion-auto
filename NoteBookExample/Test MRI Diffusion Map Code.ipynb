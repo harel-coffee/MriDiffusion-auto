{
 "cells": [
  {
   "cell_type": "code",
   "execution_count": 1,
   "metadata": {},
   "outputs": [],
   "source": [
    "import preprocess_data"
   ]
  },
  {
   "cell_type": "markdown",
   "metadata": {},
   "source": [
    "We are going to first pre-process the data, the above script has a general function to do all the pre-processing\n",
    "with runProcess() or you can do it individual functions (see File).  The kernel must be restarted again if the original code is changed.  "
   ]
  },
  {
   "cell_type": "code",
   "execution_count": 2,
   "metadata": {},
   "outputs": [
    {
     "name": "stdout",
     "output_type": "stream",
     "text": [
      "created Files\n",
      "saved masked Files\n",
      "Number of files extracted (should be 40) from loading masks: 40\n",
      "padded files\n",
      "saved padded Files\n",
      "normalizing Maps using Max-Min\n",
      "Finished saving files\n"
     ]
    }
   ],
   "source": [
    "preprocess_data.runProcess()"
   ]
  },
  {
   "cell_type": "markdown",
   "metadata": {},
   "source": [
    "Example to load padded files and the use min-max Normalization"
   ]
  },
  {
   "cell_type": "code",
   "execution_count": 2,
   "metadata": {},
   "outputs": [],
   "source": [
    "#load files, names of the padded files:\n",
    "name = ['apad', 'bpad', 'dpad', 'diffpad', 'perfpad', 'fpad']\n",
    "#where are files located:\n",
    "filepath = 'mmasks'\n",
    "\n",
    "#load files:\n",
    "lafiles, lbfiles, ldfiles, ldiff_files, lperf_files, lf_files = preprocess_data.loadexisting(filepath, name) \n"
   ]
  },
  {
   "cell_type": "code",
   "execution_count": 3,
   "metadata": {},
   "outputs": [
    {
     "data": {
      "text/plain": [
       "40"
      ]
     },
     "execution_count": 3,
     "metadata": {},
     "output_type": "execute_result"
    }
   ],
   "source": [
    "#check number of files in a list, should be currrently 40:\n",
    "len(lafiles)"
   ]
  },
  {
   "cell_type": "code",
   "execution_count": 4,
   "metadata": {},
   "outputs": [],
   "source": [
    "#normalize the images using min-max\n",
    "lafiles, lbfiles, ldfiles = preprocess_data.MaxMinNorm(lafiles, lbfiles, ldfiles)\n",
    "ldiff_files, lperf_files, lf_files = preprocess_data.MaxMinNorm(ldiff_files, lperf_files, lf_files)\n",
    "\n",
    "#save the normalized files, create a name and set folder path, folder must already be created\n",
    "filepath = 'maxmin'\n",
    "name = ['mm_apad', 'mm_bpad', 'mm_dpad', 'mm_diffpad', 'mm_perfpad', 'mm_fpad']\n",
    "preprocess_data.savewithPatient(filepath, name, [lafiles, lbfiles, ldfiles, ldiff_files, lperf_files, lf_files])\n"
   ]
  },
  {
   "cell_type": "code",
   "execution_count": 15,
   "metadata": {},
   "outputs": [],
   "source": [
    "#lets look at an example image\n",
    "#need to import the necessary packages\n",
    "import numpy as np\n",
    "import matplotlib.pyplot as plt\n",
    "%matplotlib inline"
   ]
  },
  {
   "cell_type": "code",
   "execution_count": 22,
   "metadata": {},
   "outputs": [],
   "source": [
    "example1 = np.load('/home/ludeep/Desktop/MRI_Diffusion/maxmin/PAT0018_21_mm_perfpad.npy')"
   ]
  },
  {
   "cell_type": "code",
   "execution_count": 23,
   "metadata": {},
   "outputs": [
    {
     "data": {
      "image/png": "[encoded data removed]",
      "text/plain": [
       "<Figure size 432x288 with 1 Axes>"
      ]
     },
     "metadata": {
      "needs_background": "light"
     },
     "output_type": "display_data"
    }
   ],
   "source": [
    "amap = example1[0]\n",
    "imgplot = plt.imshow(amap)\n",
    "imgplot.set_cmap('nipy_spectral')"
   ]
  },
  {
   "cell_type": "code",
   "execution_count": 36,
   "metadata": {},
   "outputs": [],
   "source": [
    "example1 = np.load('/home/ludeep/Desktop/MRI_Diffusion/mmasks/mask_alpha__PAT0018_1_apad.npy')"
   ]
  },
  {
   "cell_type": "code",
   "execution_count": 37,
   "metadata": {},
   "outputs": [
    {
     "data": {
      "image/png": "[encoded data removed]",
      "text/plain": [
       "<Figure size 432x288 with 1 Axes>"
      ]
     },
     "metadata": {
      "needs_background": "light"
     },
     "output_type": "display_data"
    }
   ],
   "source": [
    "amap = example1[0]\n",
    "imgplot = plt.imshow(amap)\n",
    "imgplot.set_cmap('nipy_spectral')"
   ]
  },
  {
   "cell_type": "code",
   "execution_count": 38,
   "metadata": {},
   "outputs": [
    {
     "data": {
      "text/plain": [
       "array([0.99999954, 0.99997882, 0.9999952 , 0.99999982, 0.99999972,\n",
       "       0.93581418, 0.9991703 , 0.99984706, 0.99999559, 0.99999633,\n",
       "       0.99949318, 0.95306186, 0.9999318 , 0.99993643, 0.99995455,\n",
       "       0.99520982, 0.99726065, 0.99995975, 0.93636577, 0.99999991,\n",
       "       0.99981049, 0.98546043, 0.98473844, 0.98444804, 0.997625  ,\n",
       "       0.99997375, 0.87595897, 0.99999661, 0.99939008, 0.99999933,\n",
       "       0.99999527, 0.98565129, 0.98501052, 0.98768633, 0.99999379,\n",
       "       0.93605086, 0.72503968, 0.98769763, 0.9932434 , 0.99999738,\n",
       "       0.99971938, 0.99989877, 0.97730993, 0.99619508, 0.9129938 ,\n",
       "       0.73769555, 0.53978898, 0.9       , 0.9       , 0.9941107 ,\n",
       "       0.99972954, 0.99971114, 0.99274682, 0.96757813, 0.79528511,\n",
       "       0.56076378, 0.9       , 0.9       , 0.9       , 0.99462661,\n",
       "       0.99977749, 0.98132585, 0.85310837, 0.6364602 , 0.9       ,\n",
       "       0.93641455, 0.91527381, 0.6580361 ])"
      ]
     },
     "execution_count": 38,
     "metadata": {},
     "output_type": "execute_result"
    }
   ],
   "source": [
    "amap.ravel()[np.flatnonzero(amap)]"
   ]
  },
  {
   "cell_type": "markdown",
   "metadata": {},
   "source": [
    "Since we only have 40 samples, we augment the data by cropping the map into 3 pieces, and then doing random flips and rotations on each of the new crops.  We also do random rotations and flips on the non-cropped images."
   ]
  },
  {
   "cell_type": "code",
   "execution_count": 6,
   "metadata": {},
   "outputs": [],
   "source": [
    "import augumentImages"
   ]
  },
  {
   "cell_type": "code",
   "execution_count": 7,
   "metadata": {},
   "outputs": [
    {
     "name": "stdout",
     "output_type": "stream",
     "text": [
      "obtaining files\n",
      "saving augmented files\n"
     ]
    }
   ],
   "source": [
    "name = ['mm_apad', 'mm_bpad', 'mm_dpad']\n",
    "filepath = 'maxmin'\n",
    "onames = ['alpha', 'beta', 'ddc']\n",
    "opath = 'maxminAug'\n",
    "\n",
    "augumentImages.augImages(filepath,name,onames,opath)"
   ]
  },
  {
   "cell_type": "code",
   "execution_count": 8,
   "metadata": {},
   "outputs": [
    {
     "name": "stdout",
     "output_type": "stream",
     "text": [
      "obtaining files\n",
      "saving augmented files\n"
     ]
    }
   ],
   "source": [
    "name = ['mm_diffpad', 'mm_perfpad', 'mm_fpad']\n",
    "filepath = 'maxmin'\n",
    "onames = ['diff', 'perf', 'f']\n",
    "opath = 'maxminAug'\n",
    "\n",
    "augumentImages.augImages(filepath,name,onames,opath)"
   ]
  },
  {
   "cell_type": "markdown",
   "metadata": {},
   "source": [
    "Some of the stuff in augument images is hard-coded so it only takes 3 maps at a time.  This could be improved later to be more dynamic.  Now lets look at one of the images."
   ]
  },
  {
   "cell_type": "code",
   "execution_count": 39,
   "metadata": {},
   "outputs": [
    {
     "data": {
      "image/png": "[encoded data removed]",
      "text/plain": [
       "<Figure size 432x288 with 1 Axes>"
      ]
     },
     "metadata": {
      "needs_background": "light"
     },
     "output_type": "display_data"
    }
   ],
   "source": [
    "#cropped alpha map\n",
    "example1 = np.load('maxminAug/ogaug_perf_PAT0018_21.npy')\n",
    "amap = example1[0]\n",
    "imgplot = plt.imshow(amap)\n",
    "imgplot.set_cmap('nipy_spectral')\n",
    "\n"
   ]
  },
  {
   "cell_type": "code",
   "execution_count": 12,
   "metadata": {},
   "outputs": [
    {
     "data": {
      "image/png": "[encoded data removed]",
      "text/plain": [
       "<Figure size 432x288 with 1 Axes>"
      ]
     },
     "metadata": {
      "needs_background": "light"
     },
     "output_type": "display_data"
    }
   ],
   "source": [
    "#original map Augumented\n",
    "example1 = np.load('maxminAug/ogaug_f_PAT0005_5.npy')\n",
    "amap = example1[0]\n",
    "imgplot = plt.imshow(amap)\n",
    "imgplot.set_cmap('nipy_spectral')"
   ]
  },
  {
   "cell_type": "markdown",
   "metadata": {},
   "source": [
    "Now lets extract all the histogram features of the all the maps.  "
   ]
  },
  {
   "cell_type": "code",
   "execution_count": 1,
   "metadata": {},
   "outputs": [],
   "source": [
    "import basicBeastures"
   ]
  },
  {
   "cell_type": "markdown",
   "metadata": {},
   "source": [
    "The script above calculates all features of the maps, look at basicBeastures.runScript() to modify bin_widths of histogram features and to specify location of maps and where features should be saved"
   ]
  },
  {
   "cell_type": "code",
   "execution_count": 3,
   "metadata": {},
   "outputs": [],
   "source": [
    "import classification_comparison2"
   ]
  },
  {
   "cell_type": "markdown",
   "metadata": {},
   "source": [
    "The script above uses the features generated to compare various classifiers.  Specifically we compare:\n",
    "\n",
    "```python\n",
    "names = [\"Linear_SVM\", \"RBF_SVM\", \"Gaussian_Process\",\n",
    "         \"Decision_Tree\", \"Random_Forest\", \"AdaBoost\",\n",
    "         \"Naive_Bayes\"]\n",
    "```\n",
    "\n",
    "We use a Gradient Boosted Classifer for optimal results, which is fine-tuned using Grid Search.  Look at the grid search function for determine how to fine tune.  Note based on the hyper-parameters needed to iterate over, the grid_search increases in time and complexity.\n",
    "\n",
    "Look at classification_comparison2.runScript() to determine various inputs and outputs of the all functions.  "
   ]
  },
  {
   "cell_type": "code",
   "execution_count": null,
   "metadata": {},
   "outputs": [],
   "source": []
  }
 ],
 "metadata": {
  "kernelspec": {
   "display_name": "Python 3",
   "language": "python",
   "name": "python3"
  },
  "language_info": {
   "codemirror_mode": {
    "name": "ipython",
    "version": 3
   },
   "file_extension": ".py",
   "mimetype": "text/x-python",
   "name": "python",
   "nbconvert_exporter": "python",
   "pygments_lexer": "ipython3",
   "version": "3.5.2"
  }
 },
 "nbformat": 4,
 "nbformat_minor": 2
}
